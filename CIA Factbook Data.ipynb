{
 "cells": [
  {
   "cell_type": "markdown",
   "id": "53cc10c2",
   "metadata": {},
   "source": [
    "# Analyzing CIA Factbook Data"
   ]
  },
  {
   "cell_type": "markdown",
   "id": "d781f1ab",
   "metadata": {},
   "source": [
    "In this project, we will explore data sourced from the CIA World Factbook, an extensive repository of statistics pertaining to countries worldwide. Specifically, we will delve into demographic details, such as:\n",
    "\n",
    "- **Global Population:** The total population of the world.\n",
    "- **Population Growth:** Annual population growth rates, represented as percentages.\n",
    "- **Geographic Area:** The combined land and water areas of each country.\n",
    "\n",
    "Our data analysis will be performed using SQL within the Jupyter Notebook platform."
   ]
  },
  {
   "cell_type": "markdown",
   "id": "bbfe55e2",
   "metadata": {},
   "source": [
    "### Connect the Jupyter Notebook to the database file"
   ]
  },
  {
   "cell_type": "code",
   "execution_count": 16,
   "id": "1f7785ac",
   "metadata": {},
   "outputs": [],
   "source": [
    "%%capture\n",
    "%load_ext sql\n",
    "%sql sqlite:///factbook.db"
   ]
  },
  {
   "cell_type": "code",
   "execution_count": 18,
   "id": "d80f6f29",
   "metadata": {},
   "outputs": [
    {
     "name": "stdout",
     "output_type": "stream",
     "text": [
      " * sqlite:///factbook.db\n",
      "Done.\n"
     ]
    },
    {
     "data": {
      "text/html": [
       "<table>\n",
       "    <thead>\n",
       "        <tr>\n",
       "            <th>type</th>\n",
       "            <th>name</th>\n",
       "            <th>tbl_name</th>\n",
       "            <th>rootpage</th>\n",
       "            <th>sql</th>\n",
       "        </tr>\n",
       "    </thead>\n",
       "    <tbody>\n",
       "        <tr>\n",
       "            <td>table</td>\n",
       "            <td>sqlite_sequence</td>\n",
       "            <td>sqlite_sequence</td>\n",
       "            <td>3</td>\n",
       "            <td>CREATE TABLE sqlite_sequence(name,seq)</td>\n",
       "        </tr>\n",
       "        <tr>\n",
       "            <td>table</td>\n",
       "            <td>facts</td>\n",
       "            <td>facts</td>\n",
       "            <td>47</td>\n",
       "            <td>CREATE TABLE &quot;facts&quot; (&quot;id&quot; INTEGER PRIMARY KEY AUTOINCREMENT NOT NULL, &quot;code&quot; varchar(255) NOT NULL, &quot;name&quot; varchar(255) NOT NULL, &quot;area&quot; integer, &quot;area_land&quot; integer, &quot;area_water&quot; integer, &quot;population&quot; integer, &quot;population_growth&quot; float, &quot;birth_rate&quot; float, &quot;death_rate&quot; float, &quot;migration_rate&quot; float)</td>\n",
       "        </tr>\n",
       "    </tbody>\n",
       "</table>"
      ],
      "text/plain": [
       "[('table', 'sqlite_sequence', 'sqlite_sequence', 3, 'CREATE TABLE sqlite_sequence(name,seq)'),\n",
       " ('table', 'facts', 'facts', 47, 'CREATE TABLE \"facts\" (\"id\" INTEGER PRIMARY KEY AUTOINCREMENT NOT NULL, \"code\" varchar(255) NOT NULL, \"name\" varchar(255) NOT NULL, \"area\" integer, \"a ... (4 characters truncated) ... land\" integer, \"area_water\" integer, \"population\" integer, \"population_growth\" float, \"birth_rate\" float, \"death_rate\" float, \"migration_rate\" float)')]"
      ]
     },
     "execution_count": 18,
     "metadata": {},
     "output_type": "execute_result"
    }
   ],
   "source": [
    "%%sql\n",
    "SELECT * FROM sqlite_master\n",
    "     WHERE type='table';"
   ]
  },
  {
   "cell_type": "code",
   "execution_count": 24,
   "id": "ee9a3a22",
   "metadata": {},
   "outputs": [
    {
     "name": "stdout",
     "output_type": "stream",
     "text": [
      " * sqlite:///factbook.db\n",
      "Done.\n"
     ]
    },
    {
     "data": {
      "text/html": [
       "<table>\n",
       "    <thead>\n",
       "        <tr>\n",
       "            <th>id</th>\n",
       "            <th>code</th>\n",
       "            <th>name</th>\n",
       "            <th>area</th>\n",
       "            <th>area_land</th>\n",
       "            <th>area_water</th>\n",
       "            <th>population</th>\n",
       "            <th>population_growth</th>\n",
       "            <th>birth_rate</th>\n",
       "            <th>death_rate</th>\n",
       "            <th>migration_rate</th>\n",
       "        </tr>\n",
       "    </thead>\n",
       "    <tbody>\n",
       "        <tr>\n",
       "            <td>1</td>\n",
       "            <td>af</td>\n",
       "            <td>Afghanistan</td>\n",
       "            <td>652230</td>\n",
       "            <td>652230</td>\n",
       "            <td>0</td>\n",
       "            <td>32564342</td>\n",
       "            <td>2.32</td>\n",
       "            <td>38.57</td>\n",
       "            <td>13.89</td>\n",
       "            <td>1.51</td>\n",
       "        </tr>\n",
       "        <tr>\n",
       "            <td>2</td>\n",
       "            <td>al</td>\n",
       "            <td>Albania</td>\n",
       "            <td>28748</td>\n",
       "            <td>27398</td>\n",
       "            <td>1350</td>\n",
       "            <td>3029278</td>\n",
       "            <td>0.3</td>\n",
       "            <td>12.92</td>\n",
       "            <td>6.58</td>\n",
       "            <td>3.3</td>\n",
       "        </tr>\n",
       "        <tr>\n",
       "            <td>3</td>\n",
       "            <td>ag</td>\n",
       "            <td>Algeria</td>\n",
       "            <td>2381741</td>\n",
       "            <td>2381741</td>\n",
       "            <td>0</td>\n",
       "            <td>39542166</td>\n",
       "            <td>1.84</td>\n",
       "            <td>23.67</td>\n",
       "            <td>4.31</td>\n",
       "            <td>0.92</td>\n",
       "        </tr>\n",
       "        <tr>\n",
       "            <td>4</td>\n",
       "            <td>an</td>\n",
       "            <td>Andorra</td>\n",
       "            <td>468</td>\n",
       "            <td>468</td>\n",
       "            <td>0</td>\n",
       "            <td>85580</td>\n",
       "            <td>0.12</td>\n",
       "            <td>8.13</td>\n",
       "            <td>6.96</td>\n",
       "            <td>0.0</td>\n",
       "        </tr>\n",
       "        <tr>\n",
       "            <td>5</td>\n",
       "            <td>ao</td>\n",
       "            <td>Angola</td>\n",
       "            <td>1246700</td>\n",
       "            <td>1246700</td>\n",
       "            <td>0</td>\n",
       "            <td>19625353</td>\n",
       "            <td>2.78</td>\n",
       "            <td>38.78</td>\n",
       "            <td>11.49</td>\n",
       "            <td>0.46</td>\n",
       "        </tr>\n",
       "    </tbody>\n",
       "</table>"
      ],
      "text/plain": [
       "[(1, 'af', 'Afghanistan', 652230, 652230, 0, 32564342, 2.32, 38.57, 13.89, 1.51),\n",
       " (2, 'al', 'Albania', 28748, 27398, 1350, 3029278, 0.3, 12.92, 6.58, 3.3),\n",
       " (3, 'ag', 'Algeria', 2381741, 2381741, 0, 39542166, 1.84, 23.67, 4.31, 0.92),\n",
       " (4, 'an', 'Andorra', 468, 468, 0, 85580, 0.12, 8.13, 6.96, 0.0),\n",
       " (5, 'ao', 'Angola', 1246700, 1246700, 0, 19625353, 2.78, 38.78, 11.49, 0.46)]"
      ]
     },
     "execution_count": 24,
     "metadata": {},
     "output_type": "execute_result"
    }
   ],
   "source": [
    "%%sql \n",
    "SELECT * FROM facts\n",
    "LIMIT 5"
   ]
  },
  {
   "cell_type": "markdown",
   "id": "f1a60456",
   "metadata": {},
   "source": [
    "### Column Description\n",
    "\n",
    "- **name** — The name of the country.\n",
    "- **area** — The country's total area (both land and water).\n",
    "- **area_land** — The country's land area in square kilometers.\n",
    "- **area_water** — The country's water area in square kilometers.\n",
    "- **population** — The country's population.\n",
    "- **population_growth** — The country's population growth as a percentage.\n",
    "- **birth_rate** — The country's birth rate, or the number of births per year per 1,000 people.\n",
    "- **death_rate** — The country's death rate, or the number of deaths per year per 1,000 people.\n"
   ]
  },
  {
   "cell_type": "markdown",
   "id": "d444e52a",
   "metadata": {},
   "source": [
    "## Exploring Statistics"
   ]
  },
  {
   "cell_type": "code",
   "execution_count": 39,
   "id": "9ad9b108",
   "metadata": {},
   "outputs": [
    {
     "name": "stdout",
     "output_type": "stream",
     "text": [
      " * sqlite:///factbook.db\n",
      "Done.\n"
     ]
    },
    {
     "data": {
      "text/html": [
       "<table>\n",
       "    <thead>\n",
       "        <tr>\n",
       "            <th>MIN(population)</th>\n",
       "            <th>MAX(population)</th>\n",
       "            <th>MIN(population_growth)</th>\n",
       "            <th>MAX(population_growth)</th>\n",
       "        </tr>\n",
       "    </thead>\n",
       "    <tbody>\n",
       "        <tr>\n",
       "            <td>0</td>\n",
       "            <td>7256490011</td>\n",
       "            <td>0.0</td>\n",
       "            <td>4.02</td>\n",
       "        </tr>\n",
       "    </tbody>\n",
       "</table>"
      ],
      "text/plain": [
       "[(0, 7256490011, 0.0, 4.02)]"
      ]
     },
     "execution_count": 39,
     "metadata": {},
     "output_type": "execute_result"
    }
   ],
   "source": [
    "%%sql\n",
    "SELECT MIN(population), MAX(population), MIN(population_growth), MAX(population_growth)\n",
    "FROM facts;"
   ]
  },
  {
   "cell_type": "markdown",
   "id": "d159f88c",
   "metadata": {},
   "source": [
    "These statisitcs are interesting and should be investigated further:\n",
    "- *There is a country with a minimum population of 0*\n",
    "- *There is a country with a population of 7.2 billion*"
   ]
  },
  {
   "cell_type": "markdown",
   "id": "38d9cb0a",
   "metadata": {},
   "source": [
    "### Exploring Outliers"
   ]
  },
  {
   "cell_type": "code",
   "execution_count": 40,
   "id": "7c263024",
   "metadata": {},
   "outputs": [
    {
     "name": "stdout",
     "output_type": "stream",
     "text": [
      " * sqlite:///factbook.db\n",
      "Done.\n"
     ]
    },
    {
     "data": {
      "text/html": [
       "<table>\n",
       "    <thead>\n",
       "        <tr>\n",
       "            <th>id</th>\n",
       "            <th>code</th>\n",
       "            <th>name</th>\n",
       "            <th>area</th>\n",
       "            <th>area_land</th>\n",
       "            <th>area_water</th>\n",
       "            <th>population</th>\n",
       "            <th>population_growth</th>\n",
       "            <th>birth_rate</th>\n",
       "            <th>death_rate</th>\n",
       "            <th>migration_rate</th>\n",
       "        </tr>\n",
       "    </thead>\n",
       "    <tbody>\n",
       "        <tr>\n",
       "            <td>250</td>\n",
       "            <td>ay</td>\n",
       "            <td>Antarctica</td>\n",
       "            <td>None</td>\n",
       "            <td>280000</td>\n",
       "            <td>None</td>\n",
       "            <td>0</td>\n",
       "            <td>None</td>\n",
       "            <td>None</td>\n",
       "            <td>None</td>\n",
       "            <td>None</td>\n",
       "        </tr>\n",
       "    </tbody>\n",
       "</table>"
      ],
      "text/plain": [
       "[(250, 'ay', 'Antarctica', None, 280000, None, 0, None, None, None, None)]"
      ]
     },
     "execution_count": 40,
     "metadata": {},
     "output_type": "execute_result"
    }
   ],
   "source": [
    "%%sql\n",
    "SELECT *\n",
    "FROM facts\n",
    "WHERE population == (SELECT MIN(population) FROM facts);"
   ]
  },
  {
   "cell_type": "markdown",
   "id": "bedb1dbd",
   "metadata": {},
   "source": [
    "The dataset appears to contain a row for Antartica the population of 0 therefore makes sense as nobody lives in Antartica but it still is considered a \"country\"."
   ]
  },
  {
   "cell_type": "code",
   "execution_count": 41,
   "id": "d2c136dc",
   "metadata": {},
   "outputs": [
    {
     "name": "stdout",
     "output_type": "stream",
     "text": [
      " * sqlite:///factbook.db\n",
      "Done.\n"
     ]
    },
    {
     "data": {
      "text/html": [
       "<table>\n",
       "    <thead>\n",
       "        <tr>\n",
       "            <th>id</th>\n",
       "            <th>code</th>\n",
       "            <th>name</th>\n",
       "            <th>area</th>\n",
       "            <th>area_land</th>\n",
       "            <th>area_water</th>\n",
       "            <th>population</th>\n",
       "            <th>population_growth</th>\n",
       "            <th>birth_rate</th>\n",
       "            <th>death_rate</th>\n",
       "            <th>migration_rate</th>\n",
       "        </tr>\n",
       "    </thead>\n",
       "    <tbody>\n",
       "        <tr>\n",
       "            <td>261</td>\n",
       "            <td>xx</td>\n",
       "            <td>World</td>\n",
       "            <td>None</td>\n",
       "            <td>None</td>\n",
       "            <td>None</td>\n",
       "            <td>7256490011</td>\n",
       "            <td>1.08</td>\n",
       "            <td>18.6</td>\n",
       "            <td>7.8</td>\n",
       "            <td>None</td>\n",
       "        </tr>\n",
       "    </tbody>\n",
       "</table>"
      ],
      "text/plain": [
       "[(261, 'xx', 'World', None, None, None, 7256490011, 1.08, 18.6, 7.8, None)]"
      ]
     },
     "execution_count": 41,
     "metadata": {},
     "output_type": "execute_result"
    }
   ],
   "source": [
    "%%sql\n",
    "SELECT *\n",
    "FROM facts\n",
    "WHERE population == (SELECT MAX(population) FROM facts);"
   ]
  },
  {
   "cell_type": "markdown",
   "id": "c33c43a5",
   "metadata": {},
   "source": [
    "There dataset also appears to contain an entry for the whole world which explains such a large population with this in \n",
    "mind we should recalculate our statistics."
   ]
  },
  {
   "cell_type": "code",
   "execution_count": 51,
   "id": "1d34d775",
   "metadata": {},
   "outputs": [
    {
     "name": "stdout",
     "output_type": "stream",
     "text": [
      " * sqlite:///factbook.db\n",
      "Done.\n"
     ]
    },
    {
     "data": {
      "text/html": [
       "<table>\n",
       "    <thead>\n",
       "        <tr>\n",
       "            <th>MIN(population)</th>\n",
       "            <th>MAX(population)</th>\n",
       "            <th>MIN(population_growth)</th>\n",
       "            <th>MAX(population_growth)</th>\n",
       "        </tr>\n",
       "    </thead>\n",
       "    <tbody>\n",
       "        <tr>\n",
       "            <td>0</td>\n",
       "            <td>1367485388</td>\n",
       "            <td>0.0</td>\n",
       "            <td>4.02</td>\n",
       "        </tr>\n",
       "    </tbody>\n",
       "</table>"
      ],
      "text/plain": [
       "[(0, 1367485388, 0.0, 4.02)]"
      ]
     },
     "execution_count": 51,
     "metadata": {},
     "output_type": "execute_result"
    }
   ],
   "source": [
    "%%sql\n",
    "SELECT MIN(population), MAX(population), MIN(population_growth), MAX(population_growth)\n",
    "FROM facts\n",
    "WHERE id IS NOT 261"
   ]
  },
  {
   "cell_type": "markdown",
   "id": "8cb60eb6",
   "metadata": {},
   "source": [
    "### Average Population & Area"
   ]
  },
  {
   "cell_type": "code",
   "execution_count": 56,
   "id": "2c3e7d63",
   "metadata": {},
   "outputs": [
    {
     "name": "stdout",
     "output_type": "stream",
     "text": [
      " * sqlite:///factbook.db\n",
      "Done.\n"
     ]
    },
    {
     "data": {
      "text/html": [
       "<table>\n",
       "    <thead>\n",
       "        <tr>\n",
       "            <th>Average Population</th>\n",
       "            <th>Average Area</th>\n",
       "        </tr>\n",
       "    </thead>\n",
       "    <tbody>\n",
       "        <tr>\n",
       "            <td>32242667.0</td>\n",
       "            <td>555094.0</td>\n",
       "        </tr>\n",
       "    </tbody>\n",
       "</table>"
      ],
      "text/plain": [
       "[(32242667.0, 555094.0)]"
      ]
     },
     "execution_count": 56,
     "metadata": {},
     "output_type": "execute_result"
    }
   ],
   "source": [
    "%%sql\n",
    "SELECT \n",
    "    ROUND(AVG(population),0) as 'Average Population', \n",
    "    ROUND(AVG(area),0) as 'Average Area'\n",
    "FROM facts\n",
    "    WHERE id is NOT 261"
   ]
  },
  {
   "cell_type": "markdown",
   "id": "c400e1d2",
   "metadata": {},
   "source": [
    "### Densely Populated Areas"
   ]
  },
  {
   "cell_type": "markdown",
   "id": "9371f765",
   "metadata": {},
   "source": [
    "Densely Populated Areas would be those who have above average population but below average area. This leading to overcrowding."
   ]
  },
  {
   "cell_type": "code",
   "execution_count": 64,
   "id": "e51ea0f6",
   "metadata": {},
   "outputs": [
    {
     "name": "stdout",
     "output_type": "stream",
     "text": [
      " * sqlite:///factbook.db\n",
      "Done.\n"
     ]
    },
    {
     "data": {
      "text/html": [
       "<table>\n",
       "    <thead>\n",
       "        <tr>\n",
       "            <th>name</th>\n",
       "            <th>population</th>\n",
       "            <th>area</th>\n",
       "        </tr>\n",
       "    </thead>\n",
       "    <tbody>\n",
       "        <tr>\n",
       "            <td>Bangladesh</td>\n",
       "            <td>168957745</td>\n",
       "            <td>148460</td>\n",
       "        </tr>\n",
       "        <tr>\n",
       "            <td>Germany</td>\n",
       "            <td>80854408</td>\n",
       "            <td>357022</td>\n",
       "        </tr>\n",
       "        <tr>\n",
       "            <td>Iraq</td>\n",
       "            <td>37056169</td>\n",
       "            <td>438317</td>\n",
       "        </tr>\n",
       "        <tr>\n",
       "            <td>Italy</td>\n",
       "            <td>61855120</td>\n",
       "            <td>301340</td>\n",
       "        </tr>\n",
       "        <tr>\n",
       "            <td>Japan</td>\n",
       "            <td>126919659</td>\n",
       "            <td>377915</td>\n",
       "        </tr>\n",
       "        <tr>\n",
       "            <td>Korea, South</td>\n",
       "            <td>49115196</td>\n",
       "            <td>99720</td>\n",
       "        </tr>\n",
       "        <tr>\n",
       "            <td>Morocco</td>\n",
       "            <td>33322699</td>\n",
       "            <td>446550</td>\n",
       "        </tr>\n",
       "        <tr>\n",
       "            <td>Philippines</td>\n",
       "            <td>100998376</td>\n",
       "            <td>300000</td>\n",
       "        </tr>\n",
       "        <tr>\n",
       "            <td>Poland</td>\n",
       "            <td>38562189</td>\n",
       "            <td>312685</td>\n",
       "        </tr>\n",
       "        <tr>\n",
       "            <td>Spain</td>\n",
       "            <td>48146134</td>\n",
       "            <td>505370</td>\n",
       "        </tr>\n",
       "        <tr>\n",
       "            <td>Thailand</td>\n",
       "            <td>67976405</td>\n",
       "            <td>513120</td>\n",
       "        </tr>\n",
       "        <tr>\n",
       "            <td>Uganda</td>\n",
       "            <td>37101745</td>\n",
       "            <td>241038</td>\n",
       "        </tr>\n",
       "        <tr>\n",
       "            <td>United Kingdom</td>\n",
       "            <td>64088222</td>\n",
       "            <td>243610</td>\n",
       "        </tr>\n",
       "        <tr>\n",
       "            <td>Vietnam</td>\n",
       "            <td>94348835</td>\n",
       "            <td>331210</td>\n",
       "        </tr>\n",
       "    </tbody>\n",
       "</table>"
      ],
      "text/plain": [
       "[('Bangladesh', 168957745, 148460),\n",
       " ('Germany', 80854408, 357022),\n",
       " ('Iraq', 37056169, 438317),\n",
       " ('Italy', 61855120, 301340),\n",
       " ('Japan', 126919659, 377915),\n",
       " ('Korea, South', 49115196, 99720),\n",
       " ('Morocco', 33322699, 446550),\n",
       " ('Philippines', 100998376, 300000),\n",
       " ('Poland', 38562189, 312685),\n",
       " ('Spain', 48146134, 505370),\n",
       " ('Thailand', 67976405, 513120),\n",
       " ('Uganda', 37101745, 241038),\n",
       " ('United Kingdom', 64088222, 243610),\n",
       " ('Vietnam', 94348835, 331210)]"
      ]
     },
     "execution_count": 64,
     "metadata": {},
     "output_type": "execute_result"
    }
   ],
   "source": [
    "%%sql\n",
    "SELECT\n",
    "    name,\n",
    "    population,\n",
    "    area\n",
    "FROM facts\n",
    "    WHERE (\n",
    "        (population > (SELECT AVG(population) FROM facts WHERE id IS NOT 261)) AND\n",
    "        (area < (SELECT AVG(area) FROM facts WHERE id IS NOT 261)))"
   ]
  },
  {
   "cell_type": "markdown",
   "id": "4529bb15",
   "metadata": {},
   "source": [
    "#### Exploratory Analysis"
   ]
  },
  {
   "cell_type": "markdown",
   "id": "a58a7d23",
   "metadata": {},
   "source": [
    "1. What country has the largest population?"
   ]
  },
  {
   "cell_type": "code",
   "execution_count": 73,
   "id": "ae874ed3",
   "metadata": {},
   "outputs": [
    {
     "name": "stdout",
     "output_type": "stream",
     "text": [
      " * sqlite:///factbook.db\n",
      "Done.\n"
     ]
    },
    {
     "data": {
      "text/html": [
       "<table>\n",
       "    <thead>\n",
       "        <tr>\n",
       "            <th>name</th>\n",
       "        </tr>\n",
       "    </thead>\n",
       "    <tbody>\n",
       "        <tr>\n",
       "            <td>China</td>\n",
       "        </tr>\n",
       "    </tbody>\n",
       "</table>"
      ],
      "text/plain": [
       "[('China',)]"
      ]
     },
     "execution_count": 73,
     "metadata": {},
     "output_type": "execute_result"
    }
   ],
   "source": [
    "%%sql\n",
    "SELECT \n",
    "    name\n",
    "FROM facts\n",
    "    WHERE id IS NOT 261\n",
    "    ORDER BY population DESC\n",
    "    LIMIT 1"
   ]
  },
  {
   "cell_type": "markdown",
   "id": "dcdca483",
   "metadata": {},
   "source": [
    "2. Which countries death rate surpasses the birthrate"
   ]
  },
  {
   "cell_type": "code",
   "execution_count": 86,
   "id": "ca6d69b4",
   "metadata": {},
   "outputs": [
    {
     "name": "stdout",
     "output_type": "stream",
     "text": [
      " * sqlite:///factbook.db\n",
      "Done.\n"
     ]
    },
    {
     "data": {
      "text/html": [
       "<table>\n",
       "    <thead>\n",
       "        <tr>\n",
       "            <th>name</th>\n",
       "            <th>death_rate</th>\n",
       "        </tr>\n",
       "    </thead>\n",
       "    <tbody>\n",
       "        <tr>\n",
       "            <td>Ukraine</td>\n",
       "            <td>14.46</td>\n",
       "        </tr>\n",
       "        <tr>\n",
       "            <td>Bulgaria</td>\n",
       "            <td>14.44</td>\n",
       "        </tr>\n",
       "        <tr>\n",
       "            <td>Latvia</td>\n",
       "            <td>14.31</td>\n",
       "        </tr>\n",
       "        <tr>\n",
       "            <td>Lithuania</td>\n",
       "            <td>14.27</td>\n",
       "        </tr>\n",
       "        <tr>\n",
       "            <td>Russia</td>\n",
       "            <td>13.69</td>\n",
       "        </tr>\n",
       "        <tr>\n",
       "            <td>Serbia</td>\n",
       "            <td>13.66</td>\n",
       "        </tr>\n",
       "        <tr>\n",
       "            <td>Belarus</td>\n",
       "            <td>13.36</td>\n",
       "        </tr>\n",
       "        <tr>\n",
       "            <td>Hungary</td>\n",
       "            <td>12.73</td>\n",
       "        </tr>\n",
       "        <tr>\n",
       "            <td>Moldova</td>\n",
       "            <td>12.59</td>\n",
       "        </tr>\n",
       "        <tr>\n",
       "            <td>Estonia</td>\n",
       "            <td>12.4</td>\n",
       "        </tr>\n",
       "        <tr>\n",
       "            <td>Croatia</td>\n",
       "            <td>12.18</td>\n",
       "        </tr>\n",
       "        <tr>\n",
       "            <td>Romania</td>\n",
       "            <td>11.9</td>\n",
       "        </tr>\n",
       "        <tr>\n",
       "            <td>Germany</td>\n",
       "            <td>11.42</td>\n",
       "        </tr>\n",
       "        <tr>\n",
       "            <td>Slovenia</td>\n",
       "            <td>11.37</td>\n",
       "        </tr>\n",
       "        <tr>\n",
       "            <td>Greece</td>\n",
       "            <td>11.09</td>\n",
       "        </tr>\n",
       "        <tr>\n",
       "            <td>Portugal</td>\n",
       "            <td>11.02</td>\n",
       "        </tr>\n",
       "        <tr>\n",
       "            <td>Czech Republic</td>\n",
       "            <td>10.34</td>\n",
       "        </tr>\n",
       "        <tr>\n",
       "            <td>Italy</td>\n",
       "            <td>10.19</td>\n",
       "        </tr>\n",
       "        <tr>\n",
       "            <td>Poland</td>\n",
       "            <td>10.19</td>\n",
       "        </tr>\n",
       "        <tr>\n",
       "            <td>Bosnia and Herzegovina</td>\n",
       "            <td>9.75</td>\n",
       "        </tr>\n",
       "        <tr>\n",
       "            <td>Saint Pierre and Miquelon</td>\n",
       "            <td>9.72</td>\n",
       "        </tr>\n",
       "        <tr>\n",
       "            <td>Japan</td>\n",
       "            <td>9.51</td>\n",
       "        </tr>\n",
       "        <tr>\n",
       "            <td>Austria</td>\n",
       "            <td>9.42</td>\n",
       "        </tr>\n",
       "        <tr>\n",
       "            <td>Monaco</td>\n",
       "            <td>9.24</td>\n",
       "        </tr>\n",
       "    </tbody>\n",
       "</table>"
      ],
      "text/plain": [
       "[('Ukraine', 14.46),\n",
       " ('Bulgaria', 14.44),\n",
       " ('Latvia', 14.31),\n",
       " ('Lithuania', 14.27),\n",
       " ('Russia', 13.69),\n",
       " ('Serbia', 13.66),\n",
       " ('Belarus', 13.36),\n",
       " ('Hungary', 12.73),\n",
       " ('Moldova', 12.59),\n",
       " ('Estonia', 12.4),\n",
       " ('Croatia', 12.18),\n",
       " ('Romania', 11.9),\n",
       " ('Germany', 11.42),\n",
       " ('Slovenia', 11.37),\n",
       " ('Greece', 11.09),\n",
       " ('Portugal', 11.02),\n",
       " ('Czech Republic', 10.34),\n",
       " ('Italy', 10.19),\n",
       " ('Poland', 10.19),\n",
       " ('Bosnia and Herzegovina', 9.75),\n",
       " ('Saint Pierre and Miquelon', 9.72),\n",
       " ('Japan', 9.51),\n",
       " ('Austria', 9.42),\n",
       " ('Monaco', 9.24)]"
      ]
     },
     "execution_count": 86,
     "metadata": {},
     "output_type": "execute_result"
    }
   ],
   "source": [
    "%%sql\n",
    "SELECT \n",
    "    name,\n",
    "    death_rate\n",
    "FROM facts\n",
    "    WHERE birth_rate < death_rate\n",
    "    ORDER BY death_rate DESC"
   ]
  },
  {
   "cell_type": "markdown",
   "id": "bdd495d1",
   "metadata": {},
   "source": [
    "3. Which country has the highest/lowest birth rate & death rate?"
   ]
  },
  {
   "cell_type": "code",
   "execution_count": 80,
   "id": "6b01b334",
   "metadata": {},
   "outputs": [
    {
     "name": "stdout",
     "output_type": "stream",
     "text": [
      " * sqlite:///factbook.db\n",
      "Done.\n"
     ]
    },
    {
     "data": {
      "text/html": [
       "<table>\n",
       "    <thead>\n",
       "        <tr>\n",
       "            <th>lowest birth rate</th>\n",
       "            <th>highest birth rate</th>\n",
       "            <th>lowest death rate</th>\n",
       "            <th>highest death rate</th>\n",
       "        </tr>\n",
       "    </thead>\n",
       "    <tbody>\n",
       "        <tr>\n",
       "            <td>Kosovo</td>\n",
       "            <td>Niger</td>\n",
       "            <td>Kosovo</td>\n",
       "            <td>Lesotho</td>\n",
       "        </tr>\n",
       "    </tbody>\n",
       "</table>"
      ],
      "text/plain": [
       "[('Kosovo', 'Niger', 'Kosovo', 'Lesotho')]"
      ]
     },
     "execution_count": 80,
     "metadata": {},
     "output_type": "execute_result"
    }
   ],
   "source": [
    "%%sql\n",
    "SELECT\n",
    "    (SELECT name FROM facts ORDER BY birth_rate) AS 'lowest birth rate',\n",
    "    (SELECT name FROM facts ORDER BY birth_rate DESC) AS 'highest birth rate',\n",
    "    (SELECT name FROM facts ORDER BY death_rate) AS 'lowest death rate',\n",
    "    (SELECT name FROM facts ORDER BY death_rate DESC) AS 'highest death rate'\n",
    "FROM facts\n",
    "LIMIT 1\n"
   ]
  },
  {
   "cell_type": "markdown",
   "id": "14b218da",
   "metadata": {},
   "source": [
    "4. How many countries have a greater water/land ratio and how many do not?"
   ]
  },
  {
   "cell_type": "code",
   "execution_count": 82,
   "id": "6cde7d96",
   "metadata": {},
   "outputs": [
    {
     "name": "stdout",
     "output_type": "stream",
     "text": [
      " * sqlite:///factbook.db\n",
      "Done.\n"
     ]
    },
    {
     "data": {
      "text/html": [
       "<table>\n",
       "    <thead>\n",
       "        <tr>\n",
       "            <th>Land Dominanted</th>\n",
       "            <th>Water Dominanted</th>\n",
       "        </tr>\n",
       "    </thead>\n",
       "    <tbody>\n",
       "        <tr>\n",
       "            <td>239</td>\n",
       "            <td>2</td>\n",
       "        </tr>\n",
       "    </tbody>\n",
       "</table>"
      ],
      "text/plain": [
       "[(239, 2)]"
      ]
     },
     "execution_count": 82,
     "metadata": {},
     "output_type": "execute_result"
    }
   ],
   "source": [
    "%%sql\n",
    "SELECT\n",
    "    (SELECT COUNT(name) FROM facts WHERE area_land > area_water) AS 'Land Dominanted',\n",
    "    (SELECT COUNT(name) FROM facts WHERE area_land < area_water) AS 'Water Dominanted'\n",
    "FROM facts\n",
    "LIMIT 1\n",
    "    "
   ]
  },
  {
   "cell_type": "code",
   "execution_count": 85,
   "id": "e08d00f3",
   "metadata": {},
   "outputs": [
    {
     "name": "stdout",
     "output_type": "stream",
     "text": [
      " * sqlite:///factbook.db\n",
      "Done.\n"
     ]
    },
    {
     "data": {
      "text/html": [
       "<table>\n",
       "    <thead>\n",
       "        <tr>\n",
       "            <th>name</th>\n",
       "            <th>area_land</th>\n",
       "            <th>area_water</th>\n",
       "        </tr>\n",
       "    </thead>\n",
       "    <tbody>\n",
       "        <tr>\n",
       "            <td>British Indian Ocean Territory</td>\n",
       "            <td>60</td>\n",
       "            <td>54340</td>\n",
       "        </tr>\n",
       "        <tr>\n",
       "            <td>Virgin Islands</td>\n",
       "            <td>346</td>\n",
       "            <td>1564</td>\n",
       "        </tr>\n",
       "    </tbody>\n",
       "</table>"
      ],
      "text/plain": [
       "[('British Indian Ocean Territory', 60, 54340), ('Virgin Islands', 346, 1564)]"
      ]
     },
     "execution_count": 85,
     "metadata": {},
     "output_type": "execute_result"
    }
   ],
   "source": [
    "%%sql\n",
    "SELECT \n",
    "    name,\n",
    "    area_land,\n",
    "    area_water\n",
    "FROM facts\n",
    "WHERE area_water>area_land;"
   ]
  },
  {
   "cell_type": "markdown",
   "id": "95e73997",
   "metadata": {},
   "source": [
    "5. Accuracy of Densley Populated Areas"
   ]
  },
  {
   "cell_type": "code",
   "execution_count": 96,
   "id": "75352cce",
   "metadata": {},
   "outputs": [
    {
     "name": "stdout",
     "output_type": "stream",
     "text": [
      " * sqlite:///factbook.db\n",
      "Done.\n"
     ]
    },
    {
     "data": {
      "text/html": [
       "<table>\n",
       "    <thead>\n",
       "        <tr>\n",
       "            <th>name</th>\n",
       "            <th>population</th>\n",
       "            <th>area</th>\n",
       "            <th>density</th>\n",
       "        </tr>\n",
       "    </thead>\n",
       "    <tbody>\n",
       "        <tr>\n",
       "            <td>Macau</td>\n",
       "            <td>592731</td>\n",
       "            <td>28</td>\n",
       "            <td>21168.0</td>\n",
       "        </tr>\n",
       "        <tr>\n",
       "            <td>Monaco</td>\n",
       "            <td>30535</td>\n",
       "            <td>2</td>\n",
       "            <td>15267.0</td>\n",
       "        </tr>\n",
       "        <tr>\n",
       "            <td>Singapore</td>\n",
       "            <td>5674472</td>\n",
       "            <td>697</td>\n",
       "            <td>8141.0</td>\n",
       "        </tr>\n",
       "        <tr>\n",
       "            <td>Hong Kong</td>\n",
       "            <td>7141106</td>\n",
       "            <td>1108</td>\n",
       "            <td>6445.0</td>\n",
       "        </tr>\n",
       "        <tr>\n",
       "            <td>Gaza Strip</td>\n",
       "            <td>1869055</td>\n",
       "            <td>360</td>\n",
       "            <td>5191.0</td>\n",
       "        </tr>\n",
       "        <tr>\n",
       "            <td>Gibraltar</td>\n",
       "            <td>29258</td>\n",
       "            <td>6</td>\n",
       "            <td>4876.0</td>\n",
       "        </tr>\n",
       "        <tr>\n",
       "            <td>Bahrain</td>\n",
       "            <td>1346613</td>\n",
       "            <td>760</td>\n",
       "            <td>1771.0</td>\n",
       "        </tr>\n",
       "        <tr>\n",
       "            <td>Maldives</td>\n",
       "            <td>393253</td>\n",
       "            <td>298</td>\n",
       "            <td>1319.0</td>\n",
       "        </tr>\n",
       "        <tr>\n",
       "            <td>Malta</td>\n",
       "            <td>413965</td>\n",
       "            <td>316</td>\n",
       "            <td>1310.0</td>\n",
       "        </tr>\n",
       "        <tr>\n",
       "            <td>Bermuda</td>\n",
       "            <td>70196</td>\n",
       "            <td>54</td>\n",
       "            <td>1299.0</td>\n",
       "        </tr>\n",
       "        <tr>\n",
       "            <td>Sint Maarten</td>\n",
       "            <td>39689</td>\n",
       "            <td>34</td>\n",
       "            <td>1167.0</td>\n",
       "        </tr>\n",
       "        <tr>\n",
       "            <td>Bangladesh</td>\n",
       "            <td>168957745</td>\n",
       "            <td>148460</td>\n",
       "            <td>1138.0</td>\n",
       "        </tr>\n",
       "    </tbody>\n",
       "</table>"
      ],
      "text/plain": [
       "[('Macau', 592731, 28, 21168.0),\n",
       " ('Monaco', 30535, 2, 15267.0),\n",
       " ('Singapore', 5674472, 697, 8141.0),\n",
       " ('Hong Kong', 7141106, 1108, 6445.0),\n",
       " ('Gaza Strip', 1869055, 360, 5191.0),\n",
       " ('Gibraltar', 29258, 6, 4876.0),\n",
       " ('Bahrain', 1346613, 760, 1771.0),\n",
       " ('Maldives', 393253, 298, 1319.0),\n",
       " ('Malta', 413965, 316, 1310.0),\n",
       " ('Bermuda', 70196, 54, 1299.0),\n",
       " ('Sint Maarten', 39689, 34, 1167.0),\n",
       " ('Bangladesh', 168957745, 148460, 1138.0)]"
      ]
     },
     "execution_count": 96,
     "metadata": {},
     "output_type": "execute_result"
    }
   ],
   "source": [
    "%%sql\n",
    "SELECT\n",
    "    name,\n",
    "    population,\n",
    "    area,\n",
    "    ROUND(population/area,2) AS 'density'\n",
    "FROM facts\n",
    "ORDER BY population/area DESC\n",
    "LIMIT 12\n"
   ]
  },
  {
   "cell_type": "markdown",
   "id": "20f64680",
   "metadata": {},
   "source": [
    "We can see that this list is a more accurate answer to our previous analysis on density. This calculation looks directly at the area of a country compared to its population as oppose to comparing those values to the average. This finding is comparable to online sources and provides proven accuracy."
   ]
  },
  {
   "cell_type": "code",
   "execution_count": null,
   "id": "8a9ec1f4",
   "metadata": {},
   "outputs": [],
   "source": []
  }
 ],
 "metadata": {
  "kernelspec": {
   "display_name": "Python 3 (ipykernel)",
   "language": "python",
   "name": "python3"
  },
  "language_info": {
   "codemirror_mode": {
    "name": "ipython",
    "version": 3
   },
   "file_extension": ".py",
   "mimetype": "text/x-python",
   "name": "python",
   "nbconvert_exporter": "python",
   "pygments_lexer": "ipython3",
   "version": "3.11.5"
  }
 },
 "nbformat": 4,
 "nbformat_minor": 5
}
